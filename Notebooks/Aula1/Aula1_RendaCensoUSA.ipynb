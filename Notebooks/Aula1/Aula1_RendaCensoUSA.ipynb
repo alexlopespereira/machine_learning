{
 "cells": [
  {
   "cell_type": "markdown",
   "id": "ef4360ff",
   "metadata": {},
   "source": [
    "# Classificação do Adult Census Income com Rede Neural (MLPClassifier)\n",
    "\n",
    "Este notebook demonstra como utilizar uma rede neural (MLPClassifier do scikit-learn) para resolver o problema de classificação do dataset Adult Census Income. O fluxo abrange:\n",
    "- Carregamento e pré-processamento dos dados\n",
    "- Divisão dos dados em treino e teste\n",
    "- Transformação dos dados (padronização e One-Hot Encoding)\n",
    "- Treinamento do modelo\n",
    "- Avaliação do modelo"
   ]
  },
  {
   "cell_type": "code",
   "execution_count": null,
   "id": "ade26933",
   "metadata": {},
   "outputs": [],
   "source": [
    "import numpy as np\n",
    "import pandas as pd\n",
    "from sklearn.datasets import fetch_openml\n",
    "from sklearn.model_selection import train_test_split\n",
    "from sklearn.preprocessing import StandardScaler, OneHotEncoder\n",
    "from sklearn.neural_network import MLPClassifier\n",
    "from sklearn.metrics import classification_report, accuracy_score"
   ]
  },
  {
   "cell_type": "markdown",
   "id": "da6652b3",
   "metadata": {},
   "source": [
    "## Carregamento e Pré-processamento do Dataset\n",
    "\n",
    "Neste passo, carregamos o dataset 'Adult' do OpenML, substituímos os valores \"?\" por NaN e removemos as linhas com dados faltantes. Em seguida, separamos as features da variável target e mapeamos os rótulos para valores numéricos."
   ]
  },
  {
   "cell_type": "code",
   "execution_count": null,
   "id": "1ef84a55",
   "metadata": {},
   "outputs": [],
   "source": [
    "# Carrega o dataset 'adult' do OpenML\n",
    "adult = fetch_openml('adult', version=2, as_frame=True)\n",
    "df = adult.frame\n",
    "\n",
    "# Substitui valores \"?\" por NaN e remove linhas com dados faltantes\n",
    "df = df.replace('?', np.nan).dropna()\n",
    "\n",
    "# Separa features (variáveis preditoras) e target (rótulo)\n",
    "X = df.drop(columns='class')\n",
    "y = df['class'].map({'<=50K': 0, '>50K': 1})"
   ]
  },
  {
   "cell_type": "markdown",
   "id": "247f1d3c",
   "metadata": {},
   "source": [
    "## Divisão dos Dados em Treino e Teste\n",
    "\n",
    "Utilizamos o `train_test_split` para dividir os dados em 80% para treino e 20% para teste, mantendo a proporção das classes com o parâmetro `stratify`."
   ]
  },
  {
   "cell_type": "code",
   "execution_count": null,
   "id": "e65a62df",
   "metadata": {},
   "outputs": [],
   "source": [
    "X_train, X_test, y_train, y_test = train_test_split(\n",
    "    X, y, test_size=0.2, random_state=42, stratify=y\n",
    ")"
   ]
  },
  {
   "cell_type": "markdown",
   "id": "d408a102",
   "metadata": {},
   "source": [
    "## Pré-processamento dos Dados: Padronização e One-Hot Encoding\n",
    "\n",
    "Primeiro, padronizamos as features numéricas utilizando o `StandardScaler`. Em seguida, aplicamos One-Hot Encoding às features categóricas usando o `OneHotEncoder`.\n",
    "\n",
    "Por fim, concatenamos as features transformadas em um único array para o treinamento do modelo."
   ]
  },
  {
   "cell_type": "code",
   "execution_count": null,
   "id": "b7081ddd",
   "metadata": {},
   "outputs": [],
   "source": [
    "# Define as colunas numéricas e categóricas\n",
    "numeric_features = ['age', 'fnlwgt', 'education-num', 'capital-gain', 'capital-loss', 'hours-per-week']\n",
    "categorical_features = [col for col in X.columns if col not in numeric_features]\n",
    "\n",
    "# Padroniza as colunas numéricas\n",
    "scaler = StandardScaler()\n",
    "X_train_num = scaler.fit_transform(X_train[numeric_features])\n",
    "X_test_num = scaler.transform(X_test[numeric_features])\n",
    "\n",
    "# Aplica One-Hot Encoding nas colunas categóricas\n",
    "encoder = OneHotEncoder(handle_unknown='ignore', sparse=False)\n",
    "X_train_cat = encoder.fit_transform(X_train[categorical_features])\n",
    "X_test_cat = encoder.transform(X_test[categorical_features])\n",
    "\n",
    "# Concatena as features numéricas e categóricas\n",
    "X_train_transformed = np.concatenate([X_train_num, X_train_cat], axis=1)\n",
    "X_test_transformed = np.concatenate([X_test_num, X_test_cat], axis=1)"
   ]
  },
  {
   "cell_type": "markdown",
   "id": "869bed29",
   "metadata": {},
   "source": [
    "## Definição e Treinamento do Modelo de Rede Neural\n",
    "\n",
    "Utilizamos o `MLPClassifier` do scikit-learn para definir uma rede neural com duas camadas ocultas (64 e 32 neurônios, respectivamente). Configuramos a função de ativação `relu`, o solver `adam` e ativamos o early stopping para evitar overfitting."
   ]
  },
  {
   "cell_type": "code",
   "execution_count": null,
   "id": "fde1e8da",
   "metadata": {},
   "outputs": [],
   "source": [
    "model = MLPClassifier(hidden_layer_sizes=(64, 32),\n",
    "                      activation='relu',\n",
    "                      solver='adam',\n",
    "                      max_iter=200,\n",
    "                      random_state=42,\n",
    "                      early_stopping=True)\n",
    "\n",
    "# Treina o modelo\n",
    "model.fit(X_train_transformed, y_train)"
   ]
  },
  {
   "cell_type": "markdown",
   "id": "95c5bdde",
   "metadata": {},
   "source": [
    "## Avaliação do Modelo\n",
    "\n",
    "Realizamos a avaliação do modelo utilizando o conjunto de teste. Calculamos a acurácia e geramos um relatório de classificação com métricas detalhadas (precisão, recall, f1-score) para cada classe."
   ]
  },
  {
   "cell_type": "code",
   "execution_count": null,
   "id": "ae09373b",
   "metadata": {},
   "outputs": [],
   "source": [
    "# Realiza as previsões no conjunto de teste\n",
    "y_pred = model.predict(X_test_transformed)\n",
    "\n",
    "# Calcula a acurácia do modelo\n",
    "accuracy = accuracy_score(y_test, y_pred)\n",
    "print(f\"Acurácia no conjunto de teste: {accuracy:.4f}\")\n",
    "\n",
    "# Gera o relatório de classificação\n",
    "print(classification_report(y_test, y_pred))"
   ]
  }
 ],
 "metadata": {
  "kernelspec": {
   "display_name": "Python 3",
   "language": "python",
   "name": "python3"
  },
  "language_info": {
   "name": "python",
   "version": "3.x"
  }
 },
 "nbformat": 4,
 "nbformat_minor": 5
}
