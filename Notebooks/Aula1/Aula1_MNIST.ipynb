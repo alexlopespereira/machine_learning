{
  "cells": [
    {
      "cell_type": "markdown",
      "metadata": {},
      "source": [
        "# Classificação MNIST com scikit-learn\n",
        "\n",
        "Este notebook demonstra como classificar dígitos manuscritos do dataset MNIST usando **scikit-learn**.\n",
        "Usaremos a função `fetch_openml` para baixar o MNIST, pré-processar os dados, treinar um `MLPClassifier`, \n",
        "avaliar seu desempenho e visualizar algumas previsões."
      ]
    },
    {
      "cell_type": "code",
      "metadata": {
        "executionInfo": {},
        "execution": {}
      },
      "outputs": [],
      "source": [
        "# ETAPA 0: IMPORTAR BIBLIOTECAS (Compartilhado para todas as etapas)\n",
        "import numpy as np\n",
        "import matplotlib.pyplot as plt\n",
        "\n",
        "from sklearn.datasets import fetch_openml\n",
        "from sklearn.model_selection import train_test_split\n",
        "from sklearn.neural_network import MLPClassifier\n",
        "from sklearn.metrics import accuracy_score"
      ]
    },
    {
      "cell_type": "markdown",
      "metadata": {},
      "source": [
        "## ETAPA 1: Baixar o Dataset MNIST\n",
        "\n",
        "Usaremos `fetch_openml` para baixar o dataset MNIST, que contém 70.000 imagens de dígitos manuscritos (0–9).\n",
        "Cada imagem possui 28×28 pixels, achatadas em um vetor de 784 dimensões."
      ]
    },
    {
      "cell_type": "code",
      "metadata": {
        "executionInfo": {},
        "execution": {}
      },
      "outputs": [],
      "source": [
        "print(\"Baixando o dataset MNIST...\")\n",
        "X, y = fetch_openml('mnist_784', version=1, return_X_y=True, as_frame=False)\n",
        "print(\"Download concluído.\")\n",
        "\n",
        "print(\"Formato de X:\", X.shape)\n",
        "print(\"Formato de y:\", y.shape)"
      ]
    },
    {
      "cell_type": "markdown",
      "metadata": {},
      "source": [
        "## ETAPA 2: Converter os rótulos de string para inteiro\n",
        "\n",
        "Por padrão, o `fetch_openml` pode carregar os rótulos como strings. Vamos convertê-los para `uint8` (0–255)\n",
        "para que funcionem melhor com as funções numéricas do scikit-learn."
      ]
    },
    {
      "cell_type": "code",
      "metadata": {
        "executionInfo": {},
        "execution": {}
      },
      "outputs": [],
      "source": [
        "y = y.astype(np.uint8)\n",
        "print(\"Rótulos convertidos para inteiros. Exemplo de rótulos:\", y[:10])"
      ]
    },
    {
      "cell_type": "markdown",
      "metadata": {},
      "source": [
        "## ETAPA 3: Dividir em Conjuntos de Treino e Teste\n",
        "\n",
        "Vamos dividir as 70.000 imagens em 60.000 para treino e 10.000 para teste,\n",
        "usando `train_test_split` com um `random_state` fixo para reprodutibilidade."
      ]
    },
    {
      "cell_type": "code",
      "metadata": {
        "executionInfo": {},
        "execution": {}
      },
      "outputs": [],
      "source": [
        "X_train, X_test, y_train, y_test = train_test_split(\n",
        "    X,\n",
        "    y,\n",
        "    test_size=10000,     # 10.000 imagens no conjunto de teste\n",
        "    random_state=42\n",
        ")\n",
        "\n",
        "print(\"Tamanho do conjunto de treino:\", X_train.shape[0])\n",
        "print(\"Tamanho do conjunto de teste:\", X_test.shape[0])"
      ]
    },
    {
      "cell_type": "markdown",
      "metadata": {},
      "source": [
        "## ETAPA 4: Normalizar (Escalonar) os Valores de Pixel\n",
        "\n",
        "Cada valor de pixel atualmente varia de 0 a 255. Vamos normalizar os dados\n",
        "dividindo por 255.0, para que os valores de pixel fiquem no intervalo [0, 1]."
      ]
    },
    {
      "cell_type": "code",
      "metadata": {
        "executionInfo": {},
        "execution": {}
      },
      "outputs": [],
      "source": [
        "X_train = X_train / 255.0\n",
        "X_test = X_test / 255.0\n",
        "\n",
        "print(\"Dados normalizados. Exemplo de valores de pixel na primeira amostra de treino:\")\n",
        "print(X_train[0][:20])  # mostra os primeiros 20 pixels da primeira imagem de treino"
      ]
    },
    {
      "cell_type": "markdown",
      "metadata": {},
      "source": [
        "## ETAPA 5: Criar o MLPClassifier\n",
        "\n",
        "Vamos criar um Perceptron Multicamadas (Multi-Layer Perceptron) simples com uma única camada oculta de 128 neurônios.\n",
        "Usamos:\n",
        "- `activation='relu'`\n",
        "- `solver='adam'`\n",
        "- `max_iter=10` (épocas)\n",
        "\n",
        "`verbose=True` exibirá mensagens de progresso durante o treinamento."
      ]
    },
    {
      "cell_type": "code",
      "metadata": {
        "executionInfo": {},
        "execution": {}
      },
      "outputs": [],
      "source": [
        "mlp = MLPClassifier(\n",
        "    hidden_layer_sizes=(128,),\n",
        "    activation='relu',\n",
        "    solver='adam',\n",
        "    max_iter=10,\n",
        "    verbose=True,\n",
        "    random_state=42\n",
        ")\n",
        "\n",
        "print(\"MLPClassifier criado:\", mlp)"
      ]
    },
    {
      "cell_type": "markdown",
      "metadata": {},
      "source": [
        "## ETAPA 6: Treinar (Fit) o Modelo\n",
        "\n",
        "Agora, vamos treinar (fit) o MLPClassifier com o conjunto de treino. Esse processo pode demorar um pouco, dependendo do hardware."
      ]
    },
    {
      "cell_type": "code",
      "metadata": {
        "executionInfo": {},
        "execution": {}
      },
      "outputs": [],
      "source": [
        "print(\"Treinando o MLPClassifier...\")\n",
        "mlp.fit(X_train, y_train)\n",
        "print(\"Treinamento concluído.\")"
      ]
    },
    {
      "cell_type": "markdown",
      "metadata": {},
      "source": [
        "## ETAPA 7: Avaliar o Modelo\n",
        "\n",
        "Fazemos a previsão dos rótulos do conjunto de teste e, em seguida, medimos a acurácia usando `accuracy_score`."
      ]
    },
    {
      "cell_type": "code",
      "metadata": {
        "executionInfo": {},
        "execution": {}
      },
      "outputs": [],
      "source": [
        "y_pred = mlp.predict(X_test)\n",
        "test_accuracy = accuracy_score(y_test, y_pred)\n",
        "\n",
        "print(\"Acurácia no teste:\", test_accuracy)"
      ]
    },
    {
      "cell_type": "markdown",
      "metadata": {},
      "source": [
        "## ETAPA 8: Visualizar Algumas Previsões\n",
        "\n",
        "Por fim, vamos exibir algumas imagens do conjunto de teste, juntamente com as previsões do modelo.\n",
        "Selecionaremos algumas imagens aleatórias e compararemos o rótulo previsto com o rótulo verdadeiro."
      ]
    },
    {
      "cell_type": "code",
      "metadata": {
        "executionInfo": {},
        "execution": {}
      },
      "outputs": [],
      "source": [
        "num_images_to_show = 5\n",
        "indices = np.random.choice(len(X_test), num_images_to_show, replace=False)\n",
        "\n",
        "for i, idx in enumerate(indices):\n",
        "    image = X_test[idx].reshape(28, 28)\n",
        "    prediction = mlp.predict(X_test[idx].reshape(1, -1))[0]\n",
        "    \n",
        "    plt.figure(figsize=(2,2))\n",
        "    plt.imshow(image, cmap='gray')\n",
        "    plt.title(f\"Previsto: {prediction}, Verdadeiro: {y_test[idx]}\")\n",
        "    plt.axis('off')\n",
        "    plt.show()"
      ]
    },
    {
      "cell_type": "markdown",
      "metadata": {},
      "source": [
        "## Conclusão\n",
        "\n",
        "- Baixamos o dataset MNIST usando `fetch_openml`.\n",
        "- Pré-processamos os dados normalizando os valores de pixel.\n",
        "- Treinamos um MLPClassifier simples em 60.000 amostras.\n",
        "- Obtivemos uma acurácia de teste (geralmente acima de 94%).\n",
        "- Visualizamos as previsões do modelo em algumas amostras de teste.\n",
        "\n",
        "**Próximos Passos**: Você pode experimentar diferentes arquiteturas de MLP (por exemplo, múltiplas camadas ocultas),\n",
        "mudar o número de neurônios ou ajustar hiperparâmetros como `solver`, `max_iter` e `learning_rate_init`.\n",
        "Também pode explorar outros datasets, como **Fashion-MNIST** ou **CIFAR-10**, \n",
        "para praticar tarefas de classificação de imagens mais complexas."
      ]
    }
  ],
  "metadata": {
    "kernelspec": {
      "display_name": "Python 3",
      "language": "python",
      "name": "python3"
    },
    "language_info": {
      "codemirror_mode": {
        "name": "ipython",
        "version": 3
      },
      "file_extension": ".py",
      "mimetype": "text/x-python",
      "name": "python",
      "nbconvert_exporter": "python",
      "pygments_lexer": "ipython3",
      "version": "3.8"
    }
  },
  "nbformat": 4,
  "nbformat_minor": 5
}

