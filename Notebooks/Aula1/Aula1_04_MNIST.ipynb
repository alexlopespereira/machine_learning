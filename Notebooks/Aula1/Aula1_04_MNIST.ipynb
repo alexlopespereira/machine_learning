{
  "cells": [
    {
      "cell_type": "markdown",
      "metadata": {
        "id": "view-in-github",
        "colab_type": "text"
      },
      "source": [
        "<a href=\"https://colab.research.google.com/github/alexlopespereira/machine_learning/blob/main/Notebooks/Aula1/Aula1_04_MNIST.ipynb\" target=\"_parent\"><img src=\"https://colab.research.google.com/assets/colab-badge.svg\" alt=\"Open In Colab\"/></a>"
      ]
    },
    {
      "cell_type": "markdown",
      "metadata": {
        "id": "SOcECypuXtJR"
      },
      "source": [
        "# Classificação MNIST com scikit-learn\n",
        "\n",
        "Este notebook demonstra como classificar dígitos manuscritos do dataset MNIST usando **scikit-learn**.\n",
        "Usaremos a função `fetch_openml` para baixar o MNIST, pré-processar os dados, treinar um `MLPClassifier`,\n",
        "avaliar seu desempenho e visualizar algumas previsões."
      ],
      "id": "SOcECypuXtJR"
    },
    {
      "cell_type": "code",
      "metadata": {
        "execution": {},
        "id": "PuYmSnqrXtJV"
      },
      "outputs": [],
      "source": [
        "# ETAPA 0: IMPORTAR BIBLIOTECAS (Compartilhado para todas as etapas)\n",
        "import numpy as np\n",
        "import matplotlib.pyplot as plt\n",
        "\n",
        "from sklearn.datasets import fetch_openml\n",
        "from sklearn.model_selection import train_test_split\n",
        "from sklearn.neural_network import MLPClassifier\n",
        "from sklearn.metrics import accuracy_score"
      ],
      "id": "PuYmSnqrXtJV",
      "execution_count": null
    },
    {
      "cell_type": "markdown",
      "metadata": {
        "id": "30FggrBfXtJZ"
      },
      "source": [
        "## ETAPA 1: Baixar o Dataset MNIST\n",
        "\n",
        "Usaremos `fetch_openml` para baixar o dataset MNIST, que contém 70.000 imagens de dígitos manuscritos (0–9).\n",
        "Cada imagem possui 28×28 pixels, achatadas em um vetor de 784 dimensões."
      ],
      "id": "30FggrBfXtJZ"
    },
    {
      "cell_type": "code",
      "metadata": {
        "execution": {},
        "id": "Hch-DUacXtJa"
      },
      "outputs": [],
      "source": [
        "print(\"Baixando o dataset MNIST...\")\n",
        "X, y = fetch_openml('mnist_784', version=1, return_X_y=True, as_frame=False)\n",
        "print(\"Download concluído.\")\n",
        "\n",
        "print(\"Formato de X:\", X.shape)\n",
        "print(\"Formato de y:\", y.shape)"
      ],
      "id": "Hch-DUacXtJa",
      "execution_count": null
    },
    {
      "cell_type": "markdown",
      "metadata": {
        "id": "EVshN1O0XtJa"
      },
      "source": [
        "## ETAPA 2: Converter os rótulos de string para inteiro\n",
        "\n",
        "Por padrão, o `fetch_openml` pode carregar os rótulos como strings. Vamos convertê-los para `uint8` (0–255)\n",
        "para que funcionem melhor com as funções numéricas do scikit-learn."
      ],
      "id": "EVshN1O0XtJa"
    },
    {
      "cell_type": "code",
      "metadata": {
        "execution": {},
        "id": "Ft_CrTxCXtJb"
      },
      "outputs": [],
      "source": [
        "y = y.astype(np.uint8)\n",
        "print(\"Rótulos convertidos para inteiros. Exemplo de rótulos:\", y[:10])"
      ],
      "id": "Ft_CrTxCXtJb",
      "execution_count": null
    },
    {
      "cell_type": "markdown",
      "metadata": {
        "id": "WFYxsvTkXtJb"
      },
      "source": [
        "## ETAPA 3: Dividir em Conjuntos de Treino e Teste\n",
        "\n",
        "Vamos dividir as 70.000 imagens em 60.000 para treino e 10.000 para teste,\n",
        "usando `train_test_split` com um `random_state` fixo para reprodutibilidade."
      ],
      "id": "WFYxsvTkXtJb"
    },
    {
      "cell_type": "code",
      "metadata": {
        "execution": {},
        "id": "KR_rNf33XtJc"
      },
      "outputs": [],
      "source": [
        "X_train, X_test, y_train, y_test = train_test_split(\n",
        "    X,\n",
        "    y,\n",
        "    test_size=10000,     # 10.000 imagens no conjunto de teste\n",
        "    random_state=42\n",
        ")\n",
        "\n",
        "print(\"Tamanho do conjunto de treino:\", X_train.shape[0])\n",
        "print(\"Tamanho do conjunto de teste:\", X_test.shape[0])"
      ],
      "id": "KR_rNf33XtJc",
      "execution_count": null
    },
    {
      "cell_type": "markdown",
      "metadata": {
        "id": "8XY5NqyfXtJd"
      },
      "source": [
        "## ETAPA 4: Normalizar (Escalonar) os Valores de Pixel\n",
        "\n",
        "Cada valor de pixel atualmente varia de 0 a 255. Vamos normalizar os dados\n",
        "dividindo por 255.0, para que os valores de pixel fiquem no intervalo [0, 1]."
      ],
      "id": "8XY5NqyfXtJd"
    },
    {
      "cell_type": "code",
      "metadata": {
        "execution": {},
        "id": "ESetKOzMXtJe"
      },
      "outputs": [],
      "source": [
        "X_train = X_train / 255.0\n",
        "X_test = X_test / 255.0\n",
        "\n",
        "print(\"Dados normalizados. Exemplo de valores de pixel na primeira amostra de treino:\")\n",
        "print(X_train[0][:20])  # mostra os primeiros 20 pixels da primeira imagem de treino"
      ],
      "id": "ESetKOzMXtJe",
      "execution_count": null
    },
    {
      "cell_type": "markdown",
      "metadata": {
        "id": "LVJDYCw2XtJf"
      },
      "source": [
        "## ETAPA 5: Criar o MLPClassifier\n",
        "\n",
        "Vamos criar um Perceptron Multicamadas (Multi-Layer Perceptron) simples com uma única camada oculta de 128 neurônios.\n",
        "Usamos:\n",
        "- `activation='relu'`\n",
        "- `solver='adam'`\n",
        "- `max_iter=10` (épocas)\n",
        "\n",
        "`verbose=True` exibirá mensagens de progresso durante o treinamento."
      ],
      "id": "LVJDYCw2XtJf"
    },
    {
      "cell_type": "markdown",
      "source": [
        "### Função de Ativação Relu\n",
        "\n",
        "![relu.jpg](data:image/jpeg;base64,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)"
      ],
      "metadata": {
        "id": "a9oo8IdSYWs_"
      },
      "id": "a9oo8IdSYWs_"
    },
    {
      "cell_type": "markdown",
      "source": [
        "### O Solver adam\n",
        "Adam (Adaptive Moment Estimation) combina duas características importantes:\n",
        "\n",
        "*   Ajusta automaticamente a taxa de aprendizado (learning rate) para cada parâmetro\n",
        "*   Utiliza médias móveis dos gradientes para melhorar a convergência\n",
        "\n",
        "\n",
        "    \n"
      ],
      "metadata": {
        "id": "MwRdKSawahQ2"
      },
      "id": "MwRdKSawahQ2"
    },
    {
      "cell_type": "code",
      "metadata": {
        "execution": {},
        "id": "BOkRQgnRXtJg"
      },
      "outputs": [],
      "source": [
        "mlp = MLPClassifier(\n",
        "    hidden_layer_sizes=(128,),\n",
        "    activation='relu',\n",
        "    solver='adam',\n",
        "    max_iter=10,\n",
        "    verbose=True,\n",
        "    random_state=42\n",
        ")\n",
        "\n",
        "print(\"MLPClassifier criado:\", mlp)"
      ],
      "id": "BOkRQgnRXtJg",
      "execution_count": null
    },
    {
      "cell_type": "markdown",
      "metadata": {
        "id": "3aB6CqaWXtJg"
      },
      "source": [
        "## ETAPA 6: Treinar (Fit) o Modelo\n",
        "\n",
        "Agora, vamos treinar (fit) o MLPClassifier com o conjunto de treino. Esse processo pode demorar um pouco, dependendo do hardware."
      ],
      "id": "3aB6CqaWXtJg"
    },
    {
      "cell_type": "code",
      "metadata": {
        "execution": {},
        "id": "lTdrod2nXtJh"
      },
      "outputs": [],
      "source": [
        "print(\"Treinando o MLPClassifier...\")\n",
        "mlp.fit(X_train, y_train)\n",
        "print(\"Treinamento concluído.\")"
      ],
      "id": "lTdrod2nXtJh",
      "execution_count": null
    },
    {
      "cell_type": "markdown",
      "metadata": {
        "id": "xr-xUktqXtJh"
      },
      "source": [
        "## ETAPA 7: Avaliar o Modelo\n",
        "\n",
        "Fazemos a previsão dos rótulos do conjunto de teste e, em seguida, medimos a acurácia usando `accuracy_score`."
      ],
      "id": "xr-xUktqXtJh"
    },
    {
      "cell_type": "code",
      "metadata": {
        "execution": {},
        "id": "KSkWskS4XtJh"
      },
      "outputs": [],
      "source": [
        "y_pred = mlp.predict(X_test) # O que é o argumento desta função? O que é o resultado? Qual o tipo e o shape da entrada e da saída?\n",
        "test_accuracy = accuracy_score(y_test, y_pred)\n",
        "\n",
        "print(\"Acurácia no teste:\", test_accuracy)"
      ],
      "id": "KSkWskS4XtJh",
      "execution_count": null
    },
    {
      "cell_type": "markdown",
      "metadata": {
        "id": "4MIwK4SgXtJh"
      },
      "source": [
        "## ETAPA 8: Visualizar Algumas Previsões\n",
        "\n",
        "Por fim, vamos exibir algumas imagens do conjunto de teste, juntamente com as previsões do modelo.\n",
        "Selecionaremos algumas imagens aleatórias e compararemos o rótulo previsto com o rótulo verdadeiro."
      ],
      "id": "4MIwK4SgXtJh"
    },
    {
      "cell_type": "code",
      "metadata": {
        "execution": {},
        "id": "s3mLSa19XtJh"
      },
      "outputs": [],
      "source": [
        "num_images_to_show = 5\n",
        "indices = np.random.choice(len(X_test), num_images_to_show, replace=False)\n",
        "\n",
        "for i, idx in enumerate(indices):\n",
        "    image = X_test[idx].reshape(28, 28)\n",
        "    prediction = mlp.predict(X_test[idx].reshape(1, -1))[0]\n",
        "\n",
        "    plt.figure(figsize=(2,2))\n",
        "    plt.imshow(image, cmap='gray')\n",
        "    plt.title(f\"Previsto: {prediction}, Verdadeiro: {y_test[idx]}\")\n",
        "    plt.axis('off')\n",
        "    plt.show()"
      ],
      "id": "s3mLSa19XtJh",
      "execution_count": null
    },
    {
      "cell_type": "markdown",
      "metadata": {
        "id": "rxc_arTQXtJi"
      },
      "source": [
        "## Conclusão\n",
        "\n",
        "- Baixamos o dataset MNIST usando `fetch_openml`.\n",
        "- Pré-processamos os dados normalizando os valores de pixel.\n",
        "- Treinamos um MLPClassifier simples em 60.000 amostras.\n",
        "- Obtivemos uma acurácia de teste (geralmente acima de 94%).\n",
        "- Visualizamos as previsões do modelo em algumas amostras de teste.\n",
        "\n",
        "**Próximos Passos**: Você pode experimentar diferentes arquiteturas de MLP (por exemplo, múltiplas camadas ocultas),\n",
        "mudar o número de neurônios ou ajustar hiperparâmetros como `solver`, `max_iter` e `learning_rate_init`.\n",
        "Também pode explorar outros datasets, como **Fashion-MNIST** ou **CIFAR-10**,\n",
        "para praticar tarefas de classificação de imagens mais complexas."
      ],
      "id": "rxc_arTQXtJi"
    }
  ],
  "metadata": {
    "kernelspec": {
      "display_name": "Python 3",
      "language": "python",
      "name": "python3"
    },
    "language_info": {
      "codemirror_mode": {
        "name": "ipython",
        "version": 3
      },
      "file_extension": ".py",
      "mimetype": "text/x-python",
      "name": "python",
      "nbconvert_exporter": "python",
      "pygments_lexer": "ipython3",
      "version": "3.8"
    },
    "colab": {
      "provenance": [],
      "include_colab_link": true
    }
  },
  "nbformat": 4,
  "nbformat_minor": 5
}