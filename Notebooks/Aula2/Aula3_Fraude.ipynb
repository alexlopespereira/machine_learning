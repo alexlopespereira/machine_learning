{
 "cells": [
  {
   "cell_type": "markdown",
   "metadata": {},
   "source": [
    "# Detecção de Fraude em Cartões de Crédito com Validação Cruzada (5 Folds)\n",
    "\n",
    "Neste notebook, utilizamos o dataset de Fraude em Cartões de Crédito para treinar um modelo de rede neural utilizando o `MLPClassifier` do scikit-learn. O fluxo do notebook inclui:\n",
    "- Carregamento do dataset\n",
    "- Preparação dos dados\n",
    "- Configuração da validação cruzada\n",
    "- Treinamento e avaliação do modelo em 5 folds\n",
    "- Agregação dos resultados"
   ]
  },
  {
   "cell_type": "code",
   "execution_count": null,
   "metadata": {},
   "outputs": [],
   "source": [
    "import numpy as np\n",
    "import pandas as pd\n",
    "from sklearn.model_selection import StratifiedKFold\n",
    "from sklearn.preprocessing import StandardScaler\n",
    "from sklearn.neural_network import MLPClassifier\n",
    "from sklearn.metrics import classification_report, accuracy_score"
   ]
  },
  {
   "cell_type": "markdown",
   "metadata": {},
   "source": [
    "## Carregamento do Dataset\n",
    "\n",
    "O dataset de Fraude em Cartões de Crédito (por exemplo, `creditcard.csv`) deve estar na mesma pasta deste notebook. Ele contém informações sobre transações, onde a coluna `Class` indica se a transação é fraudulenta (1) ou legítima (0)."
   ]
  },
  {
   "cell_type": "code",
   "execution_count": null,
   "metadata": {},
   "outputs": [],
   "source": [
    "# Carrega o dataset de fraude em cartões de crédito\n",
    "df = pd.read_csv('creditcard.csv')\n",
    "\n",
    "# Visualiza as primeiras linhas do dataset\n",
    "print(\"Visualização do dataset:\")\n",
    "print(df.head())"
   ]
  },
  {
   "cell_type": "markdown",
   "metadata": {},
   "source": [
    "## Preparação dos Dados\n",
    "\n",
    "Separamos as features (todas as colunas, exceto `Class`) da variável alvo e verificamos a distribuição das classes para entender o desbalanceamento do dataset."
   ]
  },
  {
   "cell_type": "code",
   "execution_count": null,
   "metadata": {},
   "outputs": [],
   "source": [
    "# Separa as features e a variável alvo\n",
    "X = df.drop(columns=['Class']).values\n",
    "y = df['Class'].values\n",
    "\n",
    "# Exibe a distribuição das classes\n",
    "print(\"\\nDistribuição das classes:\")\n",
    "print(pd.Series(y).value_counts())"
   ]
  },
  {
   "cell_type": "markdown",
   "metadata": {},
   "source": [
    "## Configuração da Validação Cruzada com 5 Folds\n",
    "\n",
    "Utilizamos o `StratifiedKFold` para manter a proporção das classes em cada fold. Para cada um dos 5 folds, realizamos os seguintes passos:\n",
    "1. Dividimos os dados em conjunto de treino e teste para o fold atual.\n",
    "2. Aplicamos a padronização dos dados com `StandardScaler` (ajustado apenas no conjunto de treino).\n",
    "3. Treinamos o modelo `MLPClassifier` com duas camadas ocultas.\n",
    "4. Avaliamos o modelo e armazenamos a acurácia de cada fold."
   ]
  },
  {
   "cell_type": "code",
   "execution_count": null,
   "metadata": {},
   "outputs": [],
   "source": [
    "# Configura a validação cruzada com 5 folds\n",
    "skf = StratifiedKFold(n_splits=5, shuffle=True, random_state=42) # O que significam os argumentos dessa classe\n",
    "\n",
    "# Lista para armazenar as acurácias de cada fold\n",
    "acc_scores = []\n",
    "\n",
    "fold = 1\n",
    "for train_index, test_index in skf.split(X, y):\n",
    "    print(f\"\\n=== Fold {fold} ===\")\n",
    "    \n",
    "    # Separação dos dados para o fold atual\n",
    "    X_train_fold, X_test_fold = X[train_index], X[test_index]\n",
    "    y_train_fold, y_test_fold = y[train_index], y[test_index]\n",
    "    \n",
    "    # Padronização dos dados utilizando StandardScaler\n",
    "    scaler = StandardScaler()\n",
    "    X_train_scaled = scaler.fit_transform(X_train_fold) #por que fazer o fit em cada iteração?\n",
    "    X_test_scaled = scaler.transform(X_test_fold)\n",
    "    \n",
    "    # Definição e treinamento do modelo MLPClassifier\n",
    "    model = MLPClassifier(hidden_layer_sizes=(64, 32), #Essa quantidade de neuronios está apropriada?\n",
    "                          activation='relu', # O que significa este argumento?\n",
    "                          solver='adam',\n",
    "                          max_iter=200,\n",
    "                          random_state=42,\n",
    "                          early_stopping=True)\n",
    "    \n",
    "    model.fit(X_train_scaled, y_train_fold)\n",
    "    \n",
    "    # Avaliação do modelo para o fold atual\n",
    "    y_pred_fold = model.predict(X_test_scaled)\n",
    "    acc = accuracy_score(y_test_fold, y_pred_fold)\n",
    "    acc_scores.append(acc) # Por que colocar a acurácia numa lista?\n",
    "    \n",
    "    print(f\"Acurácia no Fold {fold}: {acc:.4f}\")\n",
    "    print(f\"Relatório de Classificação do Fold {fold}:\\n{classification_report(y_test_fold, y_pred_fold)}\")\n",
    "    \n",
    "    fold += 1"
   ]
  },
  {
   "cell_type": "markdown",
   "metadata": {},
   "source": [
    "## Resultados Agregados\n",
    "\n",
    "Após a validação cruzada, calculamos a acurácia média dos 5 folds para ter uma visão geral do desempenho do modelo."
   ]
  },
  {
   "cell_type": "code",
   "execution_count": null,
   "metadata": {},
   "outputs": [],
   "source": [
    "# Calcula a acurácia média\n",
    "mean_accuracy = np.mean(acc_scores) # por que calcular a acurácia média\n",
    "# Onde está o modelo que chega nesta acurácia?\n",
    "print(\"========================================\")\n",
    "print(f\"Acurácias de cada fold: {acc_scores}\")\n",
    "print(f\"Acurácia média nos 5 folds: {mean_accuracy:.4f}\")"
   ]
  },
  {
   "cell_type": "markdown",
   "id": "28d9bc28",
   "metadata": {},
   "source": [
    "### Itere sobre esse experimento para melhorar a sua acurácia"
   ]
  },
  {
   "cell_type": "code",
   "execution_count": null,
   "id": "9bec6031",
   "metadata": {},
   "outputs": [],
   "source": [
    "#Teste várias variações dos hyperparâmetros"
   ]
  }
 ],
 "metadata": {
  "kernelspec": {
   "display_name": "Python 3",
   "language": "python",
   "name": "python3"
  },
  "language_info": {
   "name": "python",
   "version": "3.x"
  }
 },
 "nbformat": 4,
 "nbformat_minor": 5
}
