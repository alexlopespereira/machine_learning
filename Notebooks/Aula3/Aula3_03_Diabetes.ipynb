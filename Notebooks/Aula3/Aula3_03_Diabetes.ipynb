{
  "cells": [
    {
      "cell_type": "markdown",
      "metadata": {
        "id": "view-in-github",
        "colab_type": "text"
      },
      "source": [
        "<a href=\"https://colab.research.google.com/github/alexlopespereira/machine_learning/blob/main/Notebooks/Aula3/Aula3_03_Diabetes.ipynb\" target=\"_parent\"><img src=\"https://colab.research.google.com/assets/colab-badge.svg\" alt=\"Open In Colab\"/></a>"
      ]
    },
    {
      "cell_type": "markdown",
      "metadata": {
        "id": "j-I3lZWgg0BI"
      },
      "source": [
        "# Classificação de Diabetes com o Dataset Pima Indians Diabetes\n",
        "\n",
        "Neste notebook, utilizaremos o dataset Pima Indians Diabetes para construir um classificador de rede neural utilizando o `MLPClassifier` do scikit-learn. O fluxo do notebook inclui:\n",
        "- Carregamento do dataset\n",
        "- Preparação dos dados\n",
        "- Pré-processamento (padronização)\n",
        "- Treinamento do modelo\n",
        "- Avaliação dos resultados"
      ],
      "id": "j-I3lZWgg0BI"
    },
    {
      "cell_type": "code",
      "execution_count": null,
      "metadata": {
        "id": "8KyPw1mmg0BO"
      },
      "source": [
        "import numpy as np\n",
        "import pandas as pd\n",
        "from sklearn.datasets import fetch_openml\n",
        "from sklearn.model_selection import train_test_split\n",
        "from sklearn.preprocessing import StandardScaler\n",
        "from sklearn.neural_network import MLPClassifier\n",
        "from sklearn.metrics import classification_report, accuracy_score"
      ],
      "id": "8KyPw1mmg0BO",
      "outputs": []
    },
    {
      "cell_type": "markdown",
      "metadata": {
        "id": "4P9PIGfOg0BR"
      },
      "source": [
        "## Carregamento do Dataset\n",
        "\n",
        "Utilizaremos o `fetch_openml` para carregar o dataset \"PimaIndiansDiabetes\". Esse dataset contém 768 amostras com 8 atributos numéricos e uma coluna alvo que indica se o paciente é diabético (1) ou não (0)."
      ],
      "id": "4P9PIGfOg0BR"
    },
    {
      "cell_type": "code",
      "execution_count": null,
      "metadata": {
        "id": "EXoaXe13g0BS",
        "outputId": "5d0d523d-b303-4818-c0d6-1c7f79463ef6",
        "colab": {
          "base_uri": "https://localhost:8080/"
        }
      },
      "source": [
        "# Carrega o dataset Pima Indians Diabetes\n",
        "pima = fetch_openml(name='diabetes', as_frame=True)\n",
        "df = pima.frame\n",
        "\n",
        "# Exibe as primeiras linhas do dataset\n",
        "print(df.head())"
      ],
      "id": "EXoaXe13g0BS",
      "outputs": [
        {
          "output_type": "stream",
          "name": "stderr",
          "text": [
            "/usr/local/lib/python3.11/dist-packages/sklearn/datasets/_openml.py:323: UserWarning: Multiple active versions of the dataset matching the name diabetes exist. Versions may be fundamentally different, returning version 1. Available versions:\n",
            "- version 1, status: active\n",
            "  url: https://www.openml.org/search?type=data&id=37\n",
            "- version 5, status: active\n",
            "  url: https://www.openml.org/search?type=data&id=42608\n",
            "\n",
            "  warn(warning_msg)\n"
          ]
        },
        {
          "output_type": "stream",
          "name": "stdout",
          "text": [
            "   preg  plas  pres  skin  insu  mass   pedi  age            class\n",
            "0     6   148    72    35     0  33.6  0.627   50  tested_positive\n",
            "1     1    85    66    29     0  26.6  0.351   31  tested_negative\n",
            "2     8   183    64     0     0  23.3  0.672   32  tested_positive\n",
            "3     1    89    66    23    94  28.1  0.167   21  tested_negative\n",
            "4     0   137    40    35   168  43.1  2.288   33  tested_positive\n"
          ]
        }
      ]
    },
    {
      "cell_type": "markdown",
      "metadata": {
        "id": "E1npKogdg0BU"
      },
      "source": [
        "## Preparação dos Dados\n",
        "\n",
        "Neste passo, separamos as features (atributos) da variável alvo e realizamos a divisão dos dados em conjuntos de treino e teste. Utilizaremos 80% dos dados para treino e 20% para teste, mantendo a proporção das classes com o parâmetro `stratify`."
      ],
      "id": "E1npKogdg0BU"
    },
    {
      "cell_type": "code",
      "execution_count": null,
      "metadata": {
        "id": "jfzft-31g0BV"
      },
      "source": [
        "# Separa as features e a variável alvo\n",
        "X = df.drop(columns='class')\n",
        "#y = df['class'].astype(int)\n",
        "# O código acima não funciona porque a coluna class contem as strings tested_positive e tested_negative. Converta esta coluna para inteiro (0 ou 1) e guarde o resultado na variavel y\n",
        "\n",
        "# Divide os dados em treino (80%) e teste (20%)\n",
        "X_train, X_test, y_train, y_test = train_test_split(\n",
        "    X, y, test_size=0.2, random_state=42, stratify=y\n",
        ")"
      ],
      "id": "jfzft-31g0BV",
      "outputs": []
    },
    {
      "cell_type": "markdown",
      "metadata": {
        "id": "qjYbe0Thg0BV"
      },
      "source": [
        "## Pré-processamento: Padronização\n",
        "\n",
        "Como todas as colunas são numéricas, utilizamos o `StandardScaler` para padronizar os dados. Essa técnica transforma as features para terem média 0 e desvio padrão 1, o que pode ajudar na convergência do modelo."
      ],
      "id": "qjYbe0Thg0BV"
    },
    {
      "cell_type": "code",
      "execution_count": null,
      "metadata": {
        "id": "3aMV3KrMg0BW"
      },
      "source": [
        "# Inicializa e ajusta o StandardScaler nos dados de treino\n",
        "scaler = StandardScaler()\n",
        "X_train_scaled = scaler.fit_transform(X_train)\n",
        "X_test_scaled = scaler.transform(X_test)"
      ],
      "id": "3aMV3KrMg0BW",
      "outputs": []
    },
    {
      "cell_type": "markdown",
      "metadata": {
        "id": "Q5ZvQaOeg0BZ"
      },
      "source": [
        "## Definição e Treinamento do Modelo\n",
        "\n",
        "Utilizaremos o `MLPClassifier` do scikit-learn para construir uma rede neural com duas camadas ocultas. As camadas terão 64 e 32 neurônios, respectivamente. Configuramos a função de ativação `relu`, o solver `adam` e ativamos o early stopping para prevenir overfitting."
      ],
      "id": "Q5ZvQaOeg0BZ"
    },
    {
      "cell_type": "markdown",
      "source": [
        "### Função de Ativação Relu\n",
        "\n",
        "![relu.jpg](data:image/jpeg;base64,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)"
      ],
      "metadata": {
        "id": "a9oo8IdSYWs_"
      },
      "id": "a9oo8IdSYWs_"
    },
    {
      "cell_type": "markdown",
      "source": [
        "### O Solver adam\n",
        "Adam (Adaptive Moment Estimation) combina duas características importantes:\n",
        "\n",
        "*   Ajusta automaticamente a taxa de aprendizado (learning rate) para cada parâmetro\n",
        "*   Utiliza médias móveis dos gradientes para melhorar a convergência\n",
        "\n",
        "\n",
        "    \n"
      ],
      "metadata": {
        "id": "MwRdKSawahQ2"
      },
      "id": "MwRdKSawahQ2"
    },
    {
      "cell_type": "code",
      "execution_count": null,
      "metadata": {
        "id": "V6bclgL1g0Be"
      },
      "source": [
        "model = MLPClassifier(hidden_layer_sizes=(64, 32),\n",
        "                      activation='relu',\n",
        "                      solver='adam',\n",
        "                      max_iter=200,\n",
        "                      random_state=42,\n",
        "                      early_stopping=True)\n",
        "\n",
        "# Treina o modelo com os dados padronizados\n",
        "model.fit(X_train_scaled, y_train)"
      ],
      "id": "V6bclgL1g0Be",
      "outputs": []
    },
    {
      "cell_type": "markdown",
      "metadata": {
        "id": "xy4wO4fXg0Bi"
      },
      "source": [
        "## Avaliação do Modelo\n",
        "\n",
        "Após o treinamento, avaliamos o desempenho do modelo utilizando o conjunto de teste. Calculamos a acurácia e geramos um relatório de classificação detalhado (precisão, recall, f1-score)."
      ],
      "id": "xy4wO4fXg0Bi"
    },
    {
      "cell_type": "code",
      "execution_count": null,
      "metadata": {
        "id": "exudcOSFg0Bl"
      },
      "source": [
        "# Realiza as previsões no conjunto de teste\n",
        "y_pred = model.predict(X_test_scaled)\n",
        "\n",
        "# Calcula a acurácia do modelo\n",
        "accuracy = accuracy_score(y_test, y_pred)\n",
        "print(f\"Acurácia no conjunto de teste: {accuracy:.4f}\")\n",
        "\n",
        "# Exibe o relatório de classificação\n",
        "print(classification_report(y_test, y_pred))"
      ],
      "id": "exudcOSFg0Bl",
      "outputs": []
    },
    {
      "cell_type": "markdown",
      "source": [
        "## Nova iteração com validação cruzada (K-Fold)"
      ],
      "metadata": {
        "id": "yQYJane_Mru_"
      },
      "id": "yQYJane_Mru_"
    },
    {
      "cell_type": "markdown",
      "source": [
        "## O parâmetro shuffle na classe StratifiedKFold\n",
        "Controla se as amostras de cada classe serão embaralhadas antes de serem divididas em lotes. Quando ```shuffle=True```:\n",
        "\n",
        "*   As amostras X e y são embaralhadas aleatoriamente ao mesmo tempo, mantendo a correspondência entre features e rótulos\n",
        "*   A distribuição das classes é preservada em cada fold (mantém a mesma porcentagem de amostras por classe)\n",
        "*   O parâmetro random_state pode ser usado para controlar a aleatoriedade do embaralhamento e garantir resultados reproduzíveis\n",
        "\n",
        "\n",
        "\n",
        "### Impacto no Treinamento\n",
        "O uso de ```shuffle=True``` é especialmente importante quando:\n",
        "\n",
        "*   Os dados não estão distribuídos aleatoriamente no dataset original\n",
        "*   Existem padrões sequenciais nos dados que podem afetar o treinamento\n",
        "*   Há desbalanceamento de classes com amostras consecutivas da mesma classe\n"
      ],
      "metadata": {
        "id": "Vo0ZUkVTNv-N"
      },
      "id": "Vo0ZUkVTNv-N"
    },
    {
      "cell_type": "code",
      "source": [
        "skf = StratifiedKFold(n_splits=5, # Qual o significado deste argumento\n",
        "                      shuffle=True,\n",
        "                      random_state=42)\n"
      ],
      "metadata": {
        "id": "V6p1rHXjMzkE"
      },
      "id": "V6p1rHXjMzkE",
      "execution_count": null,
      "outputs": []
    },
    {
      "cell_type": "code",
      "source": [
        "\n",
        "accuracy_scores = []\n",
        "fold = 1\n",
        "\n",
        "for train_index, test_index in skf.split(X, y):\n",
        "    print(f\"\\n=== Fold {fold} ===\")\n",
        "\n",
        "    # Separação dos dados para o fold atual\n",
        "    X_train, X_test = X.iloc[train_index], X.iloc[test_index]\n",
        "    y_train, y_test = y.iloc[train_index], y.iloc[test_index]\n",
        "\n",
        "    # =============================================================================\n",
        "    # Pré-processamento: Padronização dos Dados\n",
        "    # =============================================================================\n",
        "    scaler = StandardScaler()\n",
        "    X_train_scaled = scaler.fit_transform(X_train)\n",
        "    X_test_scaled = scaler.transform(X_test)\n",
        "\n",
        "    # =============================================================================\n",
        "    # Definição e Treinamento do Modelo de Rede Neural\n",
        "    # =============================================================================\n",
        "    model = MLPClassifier(hidden_layer_sizes=(64, 32),\n",
        "                          activation='relu',\n",
        "                          solver='adam',\n",
        "                          max_iter=200,\n",
        "                          random_state=42,\n",
        "                          early_stopping=True)\n",
        "\n",
        "    model.fit(X_train_scaled, y_train)\n",
        "\n",
        "    # =============================================================================\n",
        "    # Avaliação do Modelo para o Fold Atual\n",
        "    # =============================================================================\n",
        "    y_pred = model.predict(X_test_scaled)\n",
        "    acc = accuracy_score(y_test, y_pred)\n",
        "    accuracy_scores.append(acc)\n",
        "\n",
        "    print(f\"Acurácia no Fold {fold}: {acc:.4f}\")\n",
        "    print(\"Relatório de Classificação:\")\n",
        "    print(classification_report(y_test, y_pred))\n",
        "\n",
        "    fold += 1\n",
        "\n",
        "# =============================================================================\n",
        "# Resultados Agregados\n",
        "# =============================================================================\n",
        "mean_accuracy = np.mean(accuracy_scores)\n",
        "print(\"===================================\")\n",
        "print(f\"Acurácias de cada fold: {accuracy_scores}\")\n",
        "print(f\"Acurácia média: {mean_accuracy:.4f}\")"
      ],
      "metadata": {
        "id": "rZBbVXMhMviG"
      },
      "id": "rZBbVXMhMviG",
      "execution_count": null,
      "outputs": []
    },
    {
      "cell_type": "markdown",
      "source": [
        "\n",
        "# Exercício 1\n",
        "### Altere o experimento para usar o método cross_validate em vez da classe StratifiedKFold\n",
        "\n",
        "\n",
        "     \n"
      ],
      "metadata": {
        "id": "HM2lQHcq5XRE"
      },
      "id": "HM2lQHcq5XRE"
    },
    {
      "cell_type": "code",
      "source": [],
      "metadata": {
        "id": "8KwE4pFu5Zzx"
      },
      "id": "8KwE4pFu5Zzx",
      "execution_count": null,
      "outputs": []
    },
    {
      "cell_type": "markdown",
      "source": [
        "# Exercício 2\n",
        "### Implemente um Pipeline. Inclua um ColumnTransformer no pipeline. E retreine o modelo."
      ],
      "metadata": {
        "id": "LtiVWgHM5aQI"
      },
      "id": "LtiVWgHM5aQI"
    },
    {
      "cell_type": "code",
      "source": [],
      "metadata": {
        "id": "xRwbOc0n5dou"
      },
      "id": "xRwbOc0n5dou",
      "execution_count": null,
      "outputs": []
    },
    {
      "cell_type": "markdown",
      "source": [
        "# Exercício 3\n",
        "### Faça uma otimização de hiperparâmetros utilizando um método de busca automatizado"
      ],
      "metadata": {
        "id": "yRikXV4z66Gg"
      },
      "id": "yRikXV4z66Gg"
    },
    {
      "cell_type": "code",
      "source": [],
      "metadata": {
        "id": "kyEKa8Vb7N9Y"
      },
      "id": "kyEKa8Vb7N9Y",
      "execution_count": null,
      "outputs": []
    }
  ],
  "metadata": {
    "kernelspec": {
      "display_name": "Python 3",
      "language": "python",
      "name": "python3"
    },
    "language_info": {
      "name": "python",
      "version": "3.x"
    },
    "colab": {
      "provenance": [],
      "include_colab_link": true
    }
  },
  "nbformat": 4,
  "nbformat_minor": 5
}