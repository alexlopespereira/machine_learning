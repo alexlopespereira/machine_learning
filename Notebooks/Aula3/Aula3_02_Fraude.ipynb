{
  "cells": [
    {
      "cell_type": "markdown",
      "metadata": {
        "id": "view-in-github",
        "colab_type": "text"
      },
      "source": [
        "<a href=\"https://colab.research.google.com/github/alexlopespereira/machine_learning/blob/main/Notebooks/Aula3/Aula3_02_Fraude.ipynb\" target=\"_parent\"><img src=\"https://colab.research.google.com/assets/colab-badge.svg\" alt=\"Open In Colab\"/></a>"
      ]
    },
    {
      "cell_type": "markdown",
      "metadata": {
        "id": "jToxJqociKOS"
      },
      "source": [
        "# Detecção de Fraude em Cartões de Crédito com Validação Cruzada (5 Folds)\n",
        "\n",
        "Neste notebook, utilizamos o dataset de Fraude em Cartões de Crédito para treinar um modelo de rede neural utilizando o `MLPClassifier` do scikit-learn. O fluxo do notebook inclui:\n",
        "- Carregamento do dataset\n",
        "- Preparação dos dados\n",
        "- Configuração da validação cruzada\n",
        "- Treinamento e avaliação do modelo em 5 folds\n",
        "- Agregação dos resultados"
      ],
      "id": "jToxJqociKOS"
    },
    {
      "cell_type": "code",
      "execution_count": null,
      "metadata": {
        "id": "pnMqiHyKiKOb"
      },
      "outputs": [],
      "source": [
        "import numpy as np\n",
        "import pandas as pd\n",
        "from sklearn.model_selection import StratifiedKFold\n",
        "from sklearn.preprocessing import StandardScaler\n",
        "from sklearn.neural_network import MLPClassifier\n",
        "from sklearn.metrics import classification_report, accuracy_score"
      ],
      "id": "pnMqiHyKiKOb"
    },
    {
      "cell_type": "markdown",
      "metadata": {
        "id": "DW12TnuhiKOk"
      },
      "source": [
        "## Carregamento do Dataset\n",
        "\n",
        "O dataset de Fraude em Cartões de Crédito (por exemplo, `creditcard.csv`) deve estar na mesma pasta deste notebook. Ele contém informações sobre transações, onde a coluna `Class` indica se a transação é fraudulenta (1) ou legítima (0)."
      ],
      "id": "DW12TnuhiKOk"
    },
    {
      "cell_type": "code",
      "execution_count": null,
      "metadata": {
        "id": "1dfk0kmLiKOl",
        "outputId": "dee9cb2a-722f-498e-cf7c-487232aeaa97",
        "colab": {
          "base_uri": "https://localhost:8080/"
        }
      },
      "outputs": [
        {
          "output_type": "stream",
          "name": "stdout",
          "text": [
            "Visualização do dataset:\n",
            "   Time        V1        V2        V3        V4        V5        V6        V7  \\\n",
            "0   0.0 -1.359807 -0.072781  2.536347  1.378155 -0.338321  0.462388  0.239599   \n",
            "1   0.0  1.191857  0.266151  0.166480  0.448154  0.060018 -0.082361 -0.078803   \n",
            "2   1.0 -1.358354 -1.340163  1.773209  0.379780 -0.503198  1.800499  0.791461   \n",
            "3   1.0 -0.966272 -0.185226  1.792993 -0.863291 -0.010309  1.247203  0.237609   \n",
            "4   2.0 -1.158233  0.877737  1.548718  0.403034 -0.407193  0.095921  0.592941   \n",
            "\n",
            "         V8        V9  ...       V21       V22       V23       V24       V25  \\\n",
            "0  0.098698  0.363787  ... -0.018307  0.277838 -0.110474  0.066928  0.128539   \n",
            "1  0.085102 -0.255425  ... -0.225775 -0.638672  0.101288 -0.339846  0.167170   \n",
            "2  0.247676 -1.514654  ...  0.247998  0.771679  0.909412 -0.689281 -0.327642   \n",
            "3  0.377436 -1.387024  ... -0.108300  0.005274 -0.190321 -1.175575  0.647376   \n",
            "4 -0.270533  0.817739  ... -0.009431  0.798278 -0.137458  0.141267 -0.206010   \n",
            "\n",
            "        V26       V27       V28  Amount  Class  \n",
            "0 -0.189115  0.133558 -0.021053  149.62      0  \n",
            "1  0.125895 -0.008983  0.014724    2.69      0  \n",
            "2 -0.139097 -0.055353 -0.059752  378.66      0  \n",
            "3 -0.221929  0.062723  0.061458  123.50      0  \n",
            "4  0.502292  0.219422  0.215153   69.99      0  \n",
            "\n",
            "[5 rows x 31 columns]\n"
          ]
        }
      ],
      "source": [
        "# Carrega o dataset de fraude em cartões de crédito\n",
        "df = pd.read_csv(\"https://storage.googleapis.com/download.tensorflow.org/data/creditcard.csv\")\n",
        "\n",
        "# Visualiza as primeiras linhas do dataset\n",
        "print(\"Visualização do dataset:\")\n",
        "print(df.head())"
      ],
      "id": "1dfk0kmLiKOl"
    },
    {
      "cell_type": "markdown",
      "metadata": {
        "id": "9hN-c7OOiKOn"
      },
      "source": [
        "## Preparação dos Dados\n",
        "\n",
        "Separamos as features (todas as colunas, exceto `Class`) da variável alvo e verificamos a distribuição das classes para entender o desbalanceamento do dataset."
      ],
      "id": "9hN-c7OOiKOn"
    },
    {
      "cell_type": "code",
      "execution_count": null,
      "metadata": {
        "id": "BQSea92liKOw"
      },
      "outputs": [],
      "source": [
        "# Separa as features e a variável alvo\n",
        "X = df.drop(columns=['Class']).values\n",
        "y = df['Class'].values\n",
        "\n",
        "# Exibe a distribuição das classes\n",
        "print(\"\\nDistribuição das classes:\")\n",
        "print(pd.Series(y).value_counts())"
      ],
      "id": "BQSea92liKOw"
    },
    {
      "cell_type": "markdown",
      "metadata": {
        "id": "U5sj05NLiKO1"
      },
      "source": [
        "## Configuração da Validação Cruzada com 5 Folds\n",
        "\n",
        "Utilizamos o `StratifiedKFold` para manter a proporção das classes em cada fold. Para cada um dos 5 folds, realizamos os seguintes passos:\n",
        "1. Dividimos os dados em conjunto de treino e teste para o fold atual.\n",
        "2. Aplicamos a padronização dos dados com `StandardScaler` (ajustado apenas no conjunto de treino).\n",
        "3. Treinamos o modelo `MLPClassifier` com duas camadas ocultas.\n",
        "4. Avaliamos o modelo e armazenamos a acurácia de cada fold."
      ],
      "id": "U5sj05NLiKO1"
    },
    {
      "cell_type": "code",
      "execution_count": null,
      "metadata": {
        "id": "uYVcnbdiiKO2"
      },
      "outputs": [],
      "source": [
        "# Configura a validação cruzada com 5 folds\n",
        "skf = StratifiedKFold(n_splits=5, shuffle=True, random_state=42) # O que significam os argumentos dessa classe\n",
        "\n",
        "# Lista para armazenar as acurácias de cada fold\n",
        "acc_scores = []\n",
        "\n",
        "fold = 1\n",
        "for train_index, test_index in skf.split(X, y):\n",
        "    print(f\"\\n=== Fold {fold} ===\")\n",
        "\n",
        "    # Separação dos dados para o fold atual\n",
        "    X_train_fold, X_test_fold = X[train_index], X[test_index]\n",
        "    y_train_fold, y_test_fold = y[train_index], y[test_index]\n",
        "\n",
        "    # Padronização dos dados utilizando StandardScaler\n",
        "    scaler = StandardScaler()\n",
        "    X_train_scaled = scaler.fit_transform(X_train_fold) #por que fazer o fit em cada iteração?\n",
        "    X_test_scaled = scaler.transform(X_test_fold)\n",
        "\n",
        "    # Definição e treinamento do modelo MLPClassifier\n",
        "    model = MLPClassifier(hidden_layer_sizes=(64, 32), #Essa quantidade de neuronios está apropriada?\n",
        "                          activation='relu', # O que significa este argumento?\n",
        "                          solver='adam', # O que significa este argumento?\n",
        "                          max_iter=200, # O que significa este argumento?\n",
        "                          random_state=42,\n",
        "                          early_stopping=True) # O que significa este argumento?\n",
        "\n",
        "    model.fit(X_train_scaled, y_train_fold)\n",
        "\n",
        "    # Avaliação do modelo para o fold atual\n",
        "    y_pred_fold = model.predict(X_test_scaled)\n",
        "    acc = accuracy_score(y_test_fold, y_pred_fold)\n",
        "    acc_scores.append(acc) # Por que colocar a acurácia numa lista?\n",
        "\n",
        "    print(f\"Acurácia no Fold {fold}: {acc:.4f}\")\n",
        "    print(f\"Relatório de Classificação do Fold {fold}:\\n{classification_report(y_test_fold, y_pred_fold)}\")\n",
        "\n",
        "    fold += 1"
      ],
      "id": "uYVcnbdiiKO2"
    },
    {
      "cell_type": "markdown",
      "metadata": {
        "id": "RlefgZFxiKO3"
      },
      "source": [
        "## Resultados Agregados\n",
        "\n",
        "Após a validação cruzada, calculamos a acurácia média dos 5 folds para ter uma visão geral do desempenho do modelo."
      ],
      "id": "RlefgZFxiKO3"
    },
    {
      "cell_type": "code",
      "execution_count": null,
      "metadata": {
        "id": "_tjqrfDqiKO4"
      },
      "outputs": [],
      "source": [
        "# Calcula a acurácia média\n",
        "mean_accuracy = np.mean(acc_scores) # por que calcular a acurácia média\n",
        "# Onde está o modelo que chega nesta acurácia?\n",
        "print(\"========================================\")\n",
        "print(f\"Acurácias de cada fold: {acc_scores}\")\n",
        "print(f\"Acurácia média nos 5 folds: {mean_accuracy:.4f}\")"
      ],
      "id": "_tjqrfDqiKO4"
    },
    {
      "cell_type": "markdown",
      "source": [
        "# Exercício 1\n",
        "### Altere o experimento para usar o método ```cross_validate``` em vez da classe ```StratifiedKFold```"
      ],
      "metadata": {
        "id": "26Oer8MU4fbC"
      },
      "id": "26Oer8MU4fbC"
    },
    {
      "cell_type": "code",
      "source": [],
      "metadata": {
        "id": "-_J2oPCd4fw9"
      },
      "id": "-_J2oPCd4fw9",
      "execution_count": null,
      "outputs": []
    },
    {
      "cell_type": "markdown",
      "id": "28d9bc28",
      "metadata": {
        "id": "28d9bc28"
      },
      "source": [
        "# Exercício 2\n",
        "### Implemente um Pipeline. Inclua um ColumnTransformer no pipeline. E retreine o modelo."
      ]
    },
    {
      "cell_type": "code",
      "execution_count": null,
      "id": "9bec6031",
      "metadata": {
        "id": "9bec6031"
      },
      "outputs": [],
      "source": [
        "#Teste várias variações dos hyperparâmetros"
      ]
    },
    {
      "cell_type": "markdown",
      "source": [
        "# Exercício 3\n",
        "### Faça uma otimização de hiperparâmetros utilizando um método de busca automatizado, pipelines e validação cruzada."
      ],
      "metadata": {
        "id": "UYWLuCk54Ycm"
      },
      "id": "UYWLuCk54Ycm"
    },
    {
      "cell_type": "code",
      "source": [],
      "metadata": {
        "id": "J4L0If4sDozb"
      },
      "id": "J4L0If4sDozb",
      "execution_count": null,
      "outputs": []
    }
  ],
  "metadata": {
    "kernelspec": {
      "display_name": "Python 3",
      "language": "python",
      "name": "python3"
    },
    "language_info": {
      "name": "python",
      "version": "3.x"
    },
    "colab": {
      "provenance": [],
      "include_colab_link": true
    }
  },
  "nbformat": 4,
  "nbformat_minor": 5
}